{
 "cells": [
  {
   "cell_type": "code",
   "execution_count": 1,
   "metadata": {},
   "outputs": [],
   "source": [
    "##jing zhang\n",
    "##2019 July"
   ]
  },
  {
   "cell_type": "code",
   "execution_count": 2,
   "metadata": {},
   "outputs": [],
   "source": [
    "#import AGOL module\n",
    "from arcgis.gis import GIS\n",
    "from arcgis.gis import Group\n",
    "import pandas as pd\n",
    "import datetime\n",
    "#define month as a number, like 6 for June.\n",
    "Month=6"
   ]
  },
  {
   "cell_type": "code",
   "execution_count": null,
   "metadata": {},
   "outputs": [],
   "source": [
    "#log on to your account,type in your username and password.\n",
    "agol = GIS(username=\"\")"
   ]
  },
  {
   "cell_type": "code",
   "execution_count": null,
   "metadata": {},
   "outputs": [],
   "source": [
    "#search by title\n",
    "SBOT_BCG=agol.groups.search(\"title:\")\n",
    "SBOT_BCG\n",
    "G=SBOT_BCG[0]\n",
    "G"
   ]
  },
  {
   "cell_type": "code",
   "execution_count": null,
   "metadata": {},
   "outputs": [],
   "source": [
    "s=G.content()\n",
    "s"
   ]
  },
  {
   "cell_type": "code",
   "execution_count": null,
   "metadata": {},
   "outputs": [],
   "source": [
    "title=[]\n",
    "usage=[]\n",
    "itemid=[]\n",
    "ittype=[]\n",
    "counter=0\n",
    "searchkeyword=\"Main\"\n",
    "datarage=\"60D\"\n",
    "#24H\tPast 24 hours\n",
    "#7D-\tPast 7 days (default)\n",
    "#14D\tPast 14 days\n",
    "#30D\tPast 30 days\n",
    "#60D\tPast 60 days\n",
    "#6M-\tPast 6 months\n",
    "#1Y-\tPast 12 months\n",
    "for i in s:\n",
    "    if searchkeyword in i.tags or searchkeyword in i.title or searchkeyword+\" \" in i.tags or \" \"+searchkeyword+\" \" in i.title:\n",
    "        title.append(i.title)\n",
    "        itemid.append(i.itemid)\n",
    "        usage.append(i.usage(datarage))"
   ]
  },
  {
   "cell_type": "code",
   "execution_count": null,
   "metadata": {},
   "outputs": [],
   "source": [
    "usage"
   ]
  },
  {
   "cell_type": "code",
   "execution_count": null,
   "metadata": {},
   "outputs": [],
   "source": [
    "c=[]\n",
    "#for each item\n",
    "for x in usage:\n",
    "    #if x[\"Date\"].date\n",
    "    z=0\n",
    "    d=0\n",
    "    \n",
    "    if x is None:\n",
    "        c.append(-1)\n",
    "    else:\n",
    "        print(\"start\")\n",
    "        #for each day\n",
    "        for y in x[\"Date\"]:\n",
    "            \n",
    "           \n",
    "            if y.month==Month:\n",
    "                d=d+x[\"Usage\"][z]\n",
    "                #print(Month)\n",
    "                #print(d)\n",
    "                #print(x[\"Usage\"][z])\n",
    "                #print(\"daily\", d)\n",
    "            else:\n",
    "                d=d\n",
    "            z=z+1    \n",
    "        c.append(d) \n",
    "        print(\"sum of june\") \n",
    "        print(d)   "
   ]
  },
  {
   "cell_type": "code",
   "execution_count": null,
   "metadata": {},
   "outputs": [],
   "source": [
    "c"
   ]
  },
  {
   "cell_type": "code",
   "execution_count": null,
   "metadata": {},
   "outputs": [],
   "source": [
    "title"
   ]
  },
  {
   "cell_type": "code",
   "execution_count": null,
   "metadata": {},
   "outputs": [],
   "source": [
    "#create a data frame\n",
    "df=pd.DataFrame()"
   ]
  },
  {
   "cell_type": "code",
   "execution_count": null,
   "metadata": {
    "scrolled": true
   },
   "outputs": [],
   "source": [
    "df[\"Title\"]=title\n",
    "df['Item ID']=itemid\n",
    "df['Usage']=c\n",
    "df['Month']=Month\n",
    "df=df.set_index(\"Usage\")\n",
    "df=df.drop(-1,axis=0)\n",
    "#df = df[['Title', 'Item ID', 'Usage']]\n",
    "df"
   ]
  },
  {
   "cell_type": "code",
   "execution_count": null,
   "metadata": {},
   "outputs": [],
   "source": [
    "x = datetime.datetime.now()\n",
    "y=str(x.strftime(\"%x\"))\n",
    "date=y.replace(\"/\",\"\")"
   ]
  },
  {
   "cell_type": "code",
   "execution_count": null,
   "metadata": {},
   "outputs": [],
   "source": [
    "#save excel to a folder path.\n",
    "df.to_excel(r\"\"+date+\".xlsx\")"
   ]
  },
  {
   "cell_type": "code",
   "execution_count": null,
   "metadata": {},
   "outputs": [],
   "source": []
  }
 ],
 "metadata": {
  "kernelspec": {
   "display_name": "Python 3",
   "language": "python",
   "name": "python3"
  },
  "language_info": {
   "codemirror_mode": {
    "name": "ipython",
    "version": 3
   },
   "file_extension": ".py",
   "mimetype": "text/x-python",
   "name": "python",
   "nbconvert_exporter": "python",
   "pygments_lexer": "ipython3",
   "version": "3.6.8"
  }
 },
 "nbformat": 4,
 "nbformat_minor": 2
}
